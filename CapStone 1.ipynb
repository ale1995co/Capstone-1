{
 "cells": [
  {
   "cell_type": "markdown",
   "metadata": {},
   "source": [
    "#                                  Analysis of Denver Crimes from the past five years. \n",
    "\n",
    "\n",
    "\n",
    "# Dataset\n",
    "The dataset that was used for this report is all the criminal offenses in the City and County of Denver for the previous five calendar years plus the current year to date. There are 508143 counts of crimes.  The dataset was downloaded on 08/26/2019. The crime data is updated Monday through Friday.  Data is collected by the Denver Police Department. Data that is withheld from this dataset are addresses of sexual assaults and child abuse cases, and other crimes which by their nature involve juveniles, or which the reports indicate involve juveniles as victims, suspects, or witnesses, are not reported at all. The dataset is chosen because I live in close to Denver and  I would think it would nice to know what crimes are common in Denver. \n"
   ]
  },
  {
   "cell_type": "code",
   "execution_count": 1,
   "metadata": {},
   "outputs": [],
   "source": [
    "import matplotlib.pyplot as plt\n",
    "import numpy as np\n",
    "import pandas as pd"
   ]
  },
  {
   "cell_type": "code",
   "execution_count": 62,
   "metadata": {},
   "outputs": [
    {
     "data": {
      "text/html": [
       "<div>\n",
       "<style scoped>\n",
       "    .dataframe tbody tr th:only-of-type {\n",
       "        vertical-align: middle;\n",
       "    }\n",
       "\n",
       "    .dataframe tbody tr th {\n",
       "        vertical-align: top;\n",
       "    }\n",
       "\n",
       "    .dataframe thead th {\n",
       "        text-align: right;\n",
       "    }\n",
       "</style>\n",
       "<table border=\"1\" class=\"dataframe\">\n",
       "  <thead>\n",
       "    <tr style=\"text-align: right;\">\n",
       "      <th></th>\n",
       "      <th>INCIDENT_ID</th>\n",
       "      <th>OFFENSE_ID</th>\n",
       "      <th>OFFENSE_CODE</th>\n",
       "      <th>OFFENSE_CODE_EXTENSION</th>\n",
       "      <th>OFFENSE_TYPE_ID</th>\n",
       "      <th>OFFENSE_CATEGORY_ID</th>\n",
       "      <th>FIRST_OCCURRENCE_DATE</th>\n",
       "      <th>LAST_OCCURRENCE_DATE</th>\n",
       "      <th>REPORTED_DATE</th>\n",
       "      <th>INCIDENT_ADDRESS</th>\n",
       "      <th>GEO_X</th>\n",
       "      <th>GEO_Y</th>\n",
       "      <th>GEO_LON</th>\n",
       "      <th>GEO_LAT</th>\n",
       "      <th>DISTRICT_ID</th>\n",
       "      <th>PRECINCT_ID</th>\n",
       "      <th>NEIGHBORHOOD_ID</th>\n",
       "      <th>IS_CRIME</th>\n",
       "      <th>IS_TRAFFIC</th>\n",
       "    </tr>\n",
       "  </thead>\n",
       "  <tbody>\n",
       "    <tr>\n",
       "      <th>0</th>\n",
       "      <td>2016376978</td>\n",
       "      <td>2016376978521300</td>\n",
       "      <td>5213</td>\n",
       "      <td>0</td>\n",
       "      <td>weapon-unlawful-discharge-of</td>\n",
       "      <td>all-other-crimes</td>\n",
       "      <td>6/15/2016 11:31:00 PM</td>\n",
       "      <td>NaN</td>\n",
       "      <td>6/15/2016 11:31:00 PM</td>\n",
       "      <td>NaN</td>\n",
       "      <td>3193983.0</td>\n",
       "      <td>1707251.0</td>\n",
       "      <td>-104.809881</td>\n",
       "      <td>39.773188</td>\n",
       "      <td>5</td>\n",
       "      <td>521</td>\n",
       "      <td>montbello</td>\n",
       "      <td>1</td>\n",
       "      <td>0</td>\n",
       "    </tr>\n",
       "    <tr>\n",
       "      <th>1</th>\n",
       "      <td>20186000994</td>\n",
       "      <td>20186000994239900</td>\n",
       "      <td>2399</td>\n",
       "      <td>0</td>\n",
       "      <td>theft-other</td>\n",
       "      <td>larceny</td>\n",
       "      <td>10/11/2017 12:30:00 PM</td>\n",
       "      <td>10/11/2017 4:55:00 PM</td>\n",
       "      <td>1/29/2018 5:53:00 PM</td>\n",
       "      <td>NaN</td>\n",
       "      <td>3201943.0</td>\n",
       "      <td>1711852.0</td>\n",
       "      <td>-104.781434</td>\n",
       "      <td>39.785649</td>\n",
       "      <td>5</td>\n",
       "      <td>522</td>\n",
       "      <td>gateway-green-valley-ranch</td>\n",
       "      <td>1</td>\n",
       "      <td>0</td>\n",
       "    </tr>\n",
       "    <tr>\n",
       "      <th>2</th>\n",
       "      <td>20166003953</td>\n",
       "      <td>20166003953230500</td>\n",
       "      <td>2305</td>\n",
       "      <td>0</td>\n",
       "      <td>theft-items-from-vehicle</td>\n",
       "      <td>theft-from-motor-vehicle</td>\n",
       "      <td>3/4/2016 8:00:00 PM</td>\n",
       "      <td>4/25/2016 8:00:00 AM</td>\n",
       "      <td>4/26/2016 9:02:00 PM</td>\n",
       "      <td>2932 S JOSEPHINE ST</td>\n",
       "      <td>3152762.0</td>\n",
       "      <td>1667011.0</td>\n",
       "      <td>-104.957381</td>\n",
       "      <td>39.663490</td>\n",
       "      <td>3</td>\n",
       "      <td>314</td>\n",
       "      <td>wellshire</td>\n",
       "      <td>1</td>\n",
       "      <td>0</td>\n",
       "    </tr>\n",
       "    <tr>\n",
       "      <th>3</th>\n",
       "      <td>201872333</td>\n",
       "      <td>201872333239900</td>\n",
       "      <td>2399</td>\n",
       "      <td>0</td>\n",
       "      <td>theft-other</td>\n",
       "      <td>larceny</td>\n",
       "      <td>1/30/2018 7:20:00 PM</td>\n",
       "      <td>NaN</td>\n",
       "      <td>1/30/2018 10:29:00 PM</td>\n",
       "      <td>705 S COLORADO BLVD</td>\n",
       "      <td>3157162.0</td>\n",
       "      <td>1681320.0</td>\n",
       "      <td>-104.941440</td>\n",
       "      <td>39.702698</td>\n",
       "      <td>3</td>\n",
       "      <td>312</td>\n",
       "      <td>belcaro</td>\n",
       "      <td>1</td>\n",
       "      <td>0</td>\n",
       "    </tr>\n",
       "    <tr>\n",
       "      <th>4</th>\n",
       "      <td>2017411405</td>\n",
       "      <td>2017411405230300</td>\n",
       "      <td>2303</td>\n",
       "      <td>0</td>\n",
       "      <td>theft-shoplift</td>\n",
       "      <td>larceny</td>\n",
       "      <td>6/22/2017 8:53:00 PM</td>\n",
       "      <td>NaN</td>\n",
       "      <td>6/23/2017 4:09:00 PM</td>\n",
       "      <td>2810 E 1ST AVE</td>\n",
       "      <td>3153211.0</td>\n",
       "      <td>1686545.0</td>\n",
       "      <td>-104.955370</td>\n",
       "      <td>39.717107</td>\n",
       "      <td>3</td>\n",
       "      <td>311</td>\n",
       "      <td>cherry-creek</td>\n",
       "      <td>1</td>\n",
       "      <td>0</td>\n",
       "    </tr>\n",
       "  </tbody>\n",
       "</table>\n",
       "</div>"
      ],
      "text/plain": [
       "   INCIDENT_ID         OFFENSE_ID  OFFENSE_CODE  OFFENSE_CODE_EXTENSION  \\\n",
       "0   2016376978   2016376978521300          5213                       0   \n",
       "1  20186000994  20186000994239900          2399                       0   \n",
       "2  20166003953  20166003953230500          2305                       0   \n",
       "3    201872333    201872333239900          2399                       0   \n",
       "4   2017411405   2017411405230300          2303                       0   \n",
       "\n",
       "                OFFENSE_TYPE_ID       OFFENSE_CATEGORY_ID  \\\n",
       "0  weapon-unlawful-discharge-of          all-other-crimes   \n",
       "1                   theft-other                   larceny   \n",
       "2      theft-items-from-vehicle  theft-from-motor-vehicle   \n",
       "3                   theft-other                   larceny   \n",
       "4                theft-shoplift                   larceny   \n",
       "\n",
       "    FIRST_OCCURRENCE_DATE   LAST_OCCURRENCE_DATE          REPORTED_DATE  \\\n",
       "0   6/15/2016 11:31:00 PM                    NaN  6/15/2016 11:31:00 PM   \n",
       "1  10/11/2017 12:30:00 PM  10/11/2017 4:55:00 PM   1/29/2018 5:53:00 PM   \n",
       "2     3/4/2016 8:00:00 PM   4/25/2016 8:00:00 AM   4/26/2016 9:02:00 PM   \n",
       "3    1/30/2018 7:20:00 PM                    NaN  1/30/2018 10:29:00 PM   \n",
       "4    6/22/2017 8:53:00 PM                    NaN   6/23/2017 4:09:00 PM   \n",
       "\n",
       "      INCIDENT_ADDRESS      GEO_X      GEO_Y     GEO_LON    GEO_LAT  \\\n",
       "0                  NaN  3193983.0  1707251.0 -104.809881  39.773188   \n",
       "1                  NaN  3201943.0  1711852.0 -104.781434  39.785649   \n",
       "2  2932 S JOSEPHINE ST  3152762.0  1667011.0 -104.957381  39.663490   \n",
       "3  705 S COLORADO BLVD  3157162.0  1681320.0 -104.941440  39.702698   \n",
       "4       2810 E 1ST AVE  3153211.0  1686545.0 -104.955370  39.717107   \n",
       "\n",
       "   DISTRICT_ID  PRECINCT_ID             NEIGHBORHOOD_ID  IS_CRIME  IS_TRAFFIC  \n",
       "0            5          521                   montbello         1           0  \n",
       "1            5          522  gateway-green-valley-ranch         1           0  \n",
       "2            3          314                   wellshire         1           0  \n",
       "3            3          312                     belcaro         1           0  \n",
       "4            3          311                cherry-creek         1           0  "
      ]
     },
     "execution_count": 62,
     "metadata": {},
     "output_type": "execute_result"
    }
   ],
   "source": [
    "df = pd.read_csv('crime.csv' ,delimiter=',')\n",
    "df.head()\n",
    "#source:https://www.denvergov.org/opendata/dataset/city-and-county-of-denver-crime"
   ]
  },
  {
   "cell_type": "code",
   "execution_count": 3,
   "metadata": {},
   "outputs": [
    {
     "data": {
      "text/html": [
       "<div>\n",
       "<style scoped>\n",
       "    .dataframe tbody tr th:only-of-type {\n",
       "        vertical-align: middle;\n",
       "    }\n",
       "\n",
       "    .dataframe tbody tr th {\n",
       "        vertical-align: top;\n",
       "    }\n",
       "\n",
       "    .dataframe thead th {\n",
       "        text-align: right;\n",
       "    }\n",
       "</style>\n",
       "<table border=\"1\" class=\"dataframe\">\n",
       "  <thead>\n",
       "    <tr style=\"text-align: right;\">\n",
       "      <th></th>\n",
       "      <th>INCIDENT_ID</th>\n",
       "      <th>OFFENSE_ID</th>\n",
       "      <th>OFFENSE_CODE</th>\n",
       "      <th>OFFENSE_CODE_EXTENSION</th>\n",
       "      <th>GEO_X</th>\n",
       "      <th>GEO_Y</th>\n",
       "      <th>GEO_LON</th>\n",
       "      <th>GEO_LAT</th>\n",
       "      <th>DISTRICT_ID</th>\n",
       "      <th>PRECINCT_ID</th>\n",
       "      <th>IS_CRIME</th>\n",
       "      <th>IS_TRAFFIC</th>\n",
       "    </tr>\n",
       "  </thead>\n",
       "  <tbody>\n",
       "    <tr>\n",
       "      <th>count</th>\n",
       "      <td>5.081430e+05</td>\n",
       "      <td>5.081430e+05</td>\n",
       "      <td>508143.000000</td>\n",
       "      <td>508143.000000</td>\n",
       "      <td>5.039570e+05</td>\n",
       "      <td>5.039570e+05</td>\n",
       "      <td>503957.000000</td>\n",
       "      <td>503957.000000</td>\n",
       "      <td>508143.00000</td>\n",
       "      <td>508143.000000</td>\n",
       "      <td>508143.000000</td>\n",
       "      <td>508143.000000</td>\n",
       "    </tr>\n",
       "    <tr>\n",
       "      <th>mean</th>\n",
       "      <td>3.819739e+09</td>\n",
       "      <td>3.819739e+15</td>\n",
       "      <td>3829.568187</td>\n",
       "      <td>0.205326</td>\n",
       "      <td>3.163839e+06</td>\n",
       "      <td>1.695292e+06</td>\n",
       "      <td>-104.927151</td>\n",
       "      <td>39.718957</td>\n",
       "      <td>3.49613</td>\n",
       "      <td>367.109884</td>\n",
       "      <td>0.740052</td>\n",
       "      <td>0.260484</td>\n",
       "    </tr>\n",
       "    <tr>\n",
       "      <th>std</th>\n",
       "      <td>1.005475e+10</td>\n",
       "      <td>1.005475e+16</td>\n",
       "      <td>1656.411755</td>\n",
       "      <td>0.578660</td>\n",
       "      <td>6.932705e+05</td>\n",
       "      <td>1.705978e+05</td>\n",
       "      <td>1.940106</td>\n",
       "      <td>0.734706</td>\n",
       "      <td>1.77431</td>\n",
       "      <td>178.162495</td>\n",
       "      <td>0.438606</td>\n",
       "      <td>0.438899</td>\n",
       "    </tr>\n",
       "    <tr>\n",
       "      <th>min</th>\n",
       "      <td>2.015800e+04</td>\n",
       "      <td>2.015854e+10</td>\n",
       "      <td>902.000000</td>\n",
       "      <td>0.000000</td>\n",
       "      <td>1.000000e+00</td>\n",
       "      <td>1.000000e+00</td>\n",
       "      <td>-115.464060</td>\n",
       "      <td>0.000001</td>\n",
       "      <td>1.00000</td>\n",
       "      <td>111.000000</td>\n",
       "      <td>0.000000</td>\n",
       "      <td>0.000000</td>\n",
       "    </tr>\n",
       "    <tr>\n",
       "      <th>25%</th>\n",
       "      <td>2.015143e+09</td>\n",
       "      <td>2.015143e+15</td>\n",
       "      <td>2305.000000</td>\n",
       "      <td>0.000000</td>\n",
       "      <td>3.138298e+06</td>\n",
       "      <td>1.683101e+06</td>\n",
       "      <td>-105.008257</td>\n",
       "      <td>39.707698</td>\n",
       "      <td>2.00000</td>\n",
       "      <td>221.000000</td>\n",
       "      <td>0.000000</td>\n",
       "      <td>0.000000</td>\n",
       "    </tr>\n",
       "    <tr>\n",
       "      <th>50%</th>\n",
       "      <td>2.016736e+09</td>\n",
       "      <td>2.016736e+15</td>\n",
       "      <td>3572.000000</td>\n",
       "      <td>0.000000</td>\n",
       "      <td>3.145575e+06</td>\n",
       "      <td>1.694779e+06</td>\n",
       "      <td>-104.982413</td>\n",
       "      <td>39.739773</td>\n",
       "      <td>3.00000</td>\n",
       "      <td>323.000000</td>\n",
       "      <td>1.000000</td>\n",
       "      <td>0.000000</td>\n",
       "    </tr>\n",
       "    <tr>\n",
       "      <th>75%</th>\n",
       "      <td>2.018567e+09</td>\n",
       "      <td>2.018567e+15</td>\n",
       "      <td>5441.000000</td>\n",
       "      <td>0.000000</td>\n",
       "      <td>3.161896e+06</td>\n",
       "      <td>1.701642e+06</td>\n",
       "      <td>-104.924425</td>\n",
       "      <td>39.758589</td>\n",
       "      <td>5.00000</td>\n",
       "      <td>521.000000</td>\n",
       "      <td>1.000000</td>\n",
       "      <td>1.000000</td>\n",
       "    </tr>\n",
       "    <tr>\n",
       "      <th>max</th>\n",
       "      <td>2.019519e+12</td>\n",
       "      <td>2.019519e+18</td>\n",
       "      <td>7399.000000</td>\n",
       "      <td>5.000000</td>\n",
       "      <td>4.067476e+07</td>\n",
       "      <td>1.141836e+07</td>\n",
       "      <td>-0.000001</td>\n",
       "      <td>39.904311</td>\n",
       "      <td>7.00000</td>\n",
       "      <td>759.000000</td>\n",
       "      <td>1.000000</td>\n",
       "      <td>1.000000</td>\n",
       "    </tr>\n",
       "  </tbody>\n",
       "</table>\n",
       "</div>"
      ],
      "text/plain": [
       "        INCIDENT_ID    OFFENSE_ID   OFFENSE_CODE  OFFENSE_CODE_EXTENSION  \\\n",
       "count  5.081430e+05  5.081430e+05  508143.000000           508143.000000   \n",
       "mean   3.819739e+09  3.819739e+15    3829.568187                0.205326   \n",
       "std    1.005475e+10  1.005475e+16    1656.411755                0.578660   \n",
       "min    2.015800e+04  2.015854e+10     902.000000                0.000000   \n",
       "25%    2.015143e+09  2.015143e+15    2305.000000                0.000000   \n",
       "50%    2.016736e+09  2.016736e+15    3572.000000                0.000000   \n",
       "75%    2.018567e+09  2.018567e+15    5441.000000                0.000000   \n",
       "max    2.019519e+12  2.019519e+18    7399.000000                5.000000   \n",
       "\n",
       "              GEO_X         GEO_Y        GEO_LON        GEO_LAT   DISTRICT_ID  \\\n",
       "count  5.039570e+05  5.039570e+05  503957.000000  503957.000000  508143.00000   \n",
       "mean   3.163839e+06  1.695292e+06    -104.927151      39.718957       3.49613   \n",
       "std    6.932705e+05  1.705978e+05       1.940106       0.734706       1.77431   \n",
       "min    1.000000e+00  1.000000e+00    -115.464060       0.000001       1.00000   \n",
       "25%    3.138298e+06  1.683101e+06    -105.008257      39.707698       2.00000   \n",
       "50%    3.145575e+06  1.694779e+06    -104.982413      39.739773       3.00000   \n",
       "75%    3.161896e+06  1.701642e+06    -104.924425      39.758589       5.00000   \n",
       "max    4.067476e+07  1.141836e+07      -0.000001      39.904311       7.00000   \n",
       "\n",
       "         PRECINCT_ID       IS_CRIME     IS_TRAFFIC  \n",
       "count  508143.000000  508143.000000  508143.000000  \n",
       "mean      367.109884       0.740052       0.260484  \n",
       "std       178.162495       0.438606       0.438899  \n",
       "min       111.000000       0.000000       0.000000  \n",
       "25%       221.000000       0.000000       0.000000  \n",
       "50%       323.000000       1.000000       0.000000  \n",
       "75%       521.000000       1.000000       1.000000  \n",
       "max       759.000000       1.000000       1.000000  "
      ]
     },
     "execution_count": 3,
     "metadata": {},
     "output_type": "execute_result"
    }
   ],
   "source": [
    "df.describe()\n",
    "# The Offense code is used to specify a crime using numbers. While incident ID and offense ID are used as unique ids. \n",
    "# There are seven different districts for Denver. The crimes are marked as crime or traffic crimes. \n",
    "# When there is a 1 under IS_CRIME, it means the offense was a crime. 0 means it is not a crime. \n",
    "#It is vice versa with IS_TRAFFIC. Also an offense can be both crime and traffic offense. \n",
    "\n"
   ]
  },
  {
   "cell_type": "markdown",
   "metadata": {},
   "source": [
    "The total offenses collected in this dataset is 508143. "
   ]
  },
  {
   "cell_type": "code",
   "execution_count": 11,
   "metadata": {},
   "outputs": [
    {
     "name": "stdout",
     "output_type": "stream",
     "text": [
      "0.005457899999782967\n",
      "2014-01-02 00:36:00 2019-08-26 08:00:00\n",
      "0.0033386999998583633\n"
     ]
    }
   ],
   "source": [
    "\n",
    "import time\n",
    "\n",
    "start = time.perf_counter()\n",
    "df['REPORTED_DATE'] = pd.to_datetime(df['REPORTED_DATE'])\n",
    "print(time.perf_counter() - start)\n",
    "start = time.perf_counter()\n",
    "print(df['REPORTED_DATE'].min(), df['REPORTED_DATE'].max())\n",
    "print(time.perf_counter() - start)"
   ]
  },
  {
   "cell_type": "code",
   "execution_count": 13,
   "metadata": {},
   "outputs": [],
   "source": [
    "# Oldest record is 01/02/2014 and the most current record is 08/26/2019"
   ]
  },
  {
   "cell_type": "markdown",
   "metadata": {},
   "source": [
    "#  1.Which time of year that Denver has the most crimes?  Is the rate of crimes constant or changing yearly?"
   ]
  },
  {
   "cell_type": "code",
   "execution_count": 17,
   "metadata": {},
   "outputs": [
    {
     "data": {
      "text/html": [
       "<div>\n",
       "<style scoped>\n",
       "    .dataframe tbody tr th:only-of-type {\n",
       "        vertical-align: middle;\n",
       "    }\n",
       "\n",
       "    .dataframe tbody tr th {\n",
       "        vertical-align: top;\n",
       "    }\n",
       "\n",
       "    .dataframe thead th {\n",
       "        text-align: right;\n",
       "    }\n",
       "</style>\n",
       "<table border=\"1\" class=\"dataframe\">\n",
       "  <thead>\n",
       "    <tr style=\"text-align: right;\">\n",
       "      <th></th>\n",
       "      <th></th>\n",
       "      <th>count</th>\n",
       "    </tr>\n",
       "    <tr>\n",
       "      <th>year</th>\n",
       "      <th>month</th>\n",
       "      <th></th>\n",
       "    </tr>\n",
       "  </thead>\n",
       "  <tbody>\n",
       "    <tr>\n",
       "      <th rowspan=\"12\" valign=\"top\">2014</th>\n",
       "      <th>1</th>\n",
       "      <td>5642</td>\n",
       "    </tr>\n",
       "    <tr>\n",
       "      <th>2</th>\n",
       "      <td>5536</td>\n",
       "    </tr>\n",
       "    <tr>\n",
       "      <th>3</th>\n",
       "      <td>6466</td>\n",
       "    </tr>\n",
       "    <tr>\n",
       "      <th>4</th>\n",
       "      <td>6601</td>\n",
       "    </tr>\n",
       "    <tr>\n",
       "      <th>5</th>\n",
       "      <td>7136</td>\n",
       "    </tr>\n",
       "    <tr>\n",
       "      <th>6</th>\n",
       "      <td>7153</td>\n",
       "    </tr>\n",
       "    <tr>\n",
       "      <th>7</th>\n",
       "      <td>7572</td>\n",
       "    </tr>\n",
       "    <tr>\n",
       "      <th>8</th>\n",
       "      <td>7808</td>\n",
       "    </tr>\n",
       "    <tr>\n",
       "      <th>9</th>\n",
       "      <td>7650</td>\n",
       "    </tr>\n",
       "    <tr>\n",
       "      <th>10</th>\n",
       "      <td>7679</td>\n",
       "    </tr>\n",
       "    <tr>\n",
       "      <th>11</th>\n",
       "      <td>6396</td>\n",
       "    </tr>\n",
       "    <tr>\n",
       "      <th>12</th>\n",
       "      <td>6714</td>\n",
       "    </tr>\n",
       "    <tr>\n",
       "      <th rowspan=\"12\" valign=\"top\">2015</th>\n",
       "      <th>1</th>\n",
       "      <td>7209</td>\n",
       "    </tr>\n",
       "    <tr>\n",
       "      <th>2</th>\n",
       "      <td>6082</td>\n",
       "    </tr>\n",
       "    <tr>\n",
       "      <th>3</th>\n",
       "      <td>7053</td>\n",
       "    </tr>\n",
       "    <tr>\n",
       "      <th>4</th>\n",
       "      <td>7445</td>\n",
       "    </tr>\n",
       "    <tr>\n",
       "      <th>5</th>\n",
       "      <td>7611</td>\n",
       "    </tr>\n",
       "    <tr>\n",
       "      <th>6</th>\n",
       "      <td>7690</td>\n",
       "    </tr>\n",
       "    <tr>\n",
       "      <th>7</th>\n",
       "      <td>8016</td>\n",
       "    </tr>\n",
       "    <tr>\n",
       "      <th>8</th>\n",
       "      <td>8111</td>\n",
       "    </tr>\n",
       "    <tr>\n",
       "      <th>9</th>\n",
       "      <td>7733</td>\n",
       "    </tr>\n",
       "    <tr>\n",
       "      <th>10</th>\n",
       "      <td>8177</td>\n",
       "    </tr>\n",
       "    <tr>\n",
       "      <th>11</th>\n",
       "      <td>7121</td>\n",
       "    </tr>\n",
       "    <tr>\n",
       "      <th>12</th>\n",
       "      <td>6923</td>\n",
       "    </tr>\n",
       "    <tr>\n",
       "      <th rowspan=\"12\" valign=\"top\">2016</th>\n",
       "      <th>1</th>\n",
       "      <td>7577</td>\n",
       "    </tr>\n",
       "    <tr>\n",
       "      <th>2</th>\n",
       "      <td>7065</td>\n",
       "    </tr>\n",
       "    <tr>\n",
       "      <th>3</th>\n",
       "      <td>7418</td>\n",
       "    </tr>\n",
       "    <tr>\n",
       "      <th>4</th>\n",
       "      <td>7739</td>\n",
       "    </tr>\n",
       "    <tr>\n",
       "      <th>5</th>\n",
       "      <td>8054</td>\n",
       "    </tr>\n",
       "    <tr>\n",
       "      <th>6</th>\n",
       "      <td>7710</td>\n",
       "    </tr>\n",
       "    <tr>\n",
       "      <th>7</th>\n",
       "      <td>7559</td>\n",
       "    </tr>\n",
       "    <tr>\n",
       "      <th>8</th>\n",
       "      <td>8084</td>\n",
       "    </tr>\n",
       "    <tr>\n",
       "      <th>9</th>\n",
       "      <td>8062</td>\n",
       "    </tr>\n",
       "    <tr>\n",
       "      <th>10</th>\n",
       "      <td>8123</td>\n",
       "    </tr>\n",
       "    <tr>\n",
       "      <th>11</th>\n",
       "      <td>7010</td>\n",
       "    </tr>\n",
       "    <tr>\n",
       "      <th>12</th>\n",
       "      <td>6996</td>\n",
       "    </tr>\n",
       "    <tr>\n",
       "      <th rowspan=\"12\" valign=\"top\">2017</th>\n",
       "      <th>1</th>\n",
       "      <td>7563</td>\n",
       "    </tr>\n",
       "    <tr>\n",
       "      <th>2</th>\n",
       "      <td>6847</td>\n",
       "    </tr>\n",
       "    <tr>\n",
       "      <th>3</th>\n",
       "      <td>7661</td>\n",
       "    </tr>\n",
       "    <tr>\n",
       "      <th>4</th>\n",
       "      <td>7442</td>\n",
       "    </tr>\n",
       "    <tr>\n",
       "      <th>5</th>\n",
       "      <td>8206</td>\n",
       "    </tr>\n",
       "    <tr>\n",
       "      <th>6</th>\n",
       "      <td>8094</td>\n",
       "    </tr>\n",
       "    <tr>\n",
       "      <th>7</th>\n",
       "      <td>8070</td>\n",
       "    </tr>\n",
       "    <tr>\n",
       "      <th>8</th>\n",
       "      <td>8733</td>\n",
       "    </tr>\n",
       "    <tr>\n",
       "      <th>9</th>\n",
       "      <td>8012</td>\n",
       "    </tr>\n",
       "    <tr>\n",
       "      <th>10</th>\n",
       "      <td>8060</td>\n",
       "    </tr>\n",
       "    <tr>\n",
       "      <th>11</th>\n",
       "      <td>7386</td>\n",
       "    </tr>\n",
       "    <tr>\n",
       "      <th>12</th>\n",
       "      <td>7134</td>\n",
       "    </tr>\n",
       "    <tr>\n",
       "      <th rowspan=\"12\" valign=\"top\">2018</th>\n",
       "      <th>1</th>\n",
       "      <td>7651</td>\n",
       "    </tr>\n",
       "    <tr>\n",
       "      <th>2</th>\n",
       "      <td>6838</td>\n",
       "    </tr>\n",
       "    <tr>\n",
       "      <th>3</th>\n",
       "      <td>7474</td>\n",
       "    </tr>\n",
       "    <tr>\n",
       "      <th>4</th>\n",
       "      <td>7863</td>\n",
       "    </tr>\n",
       "    <tr>\n",
       "      <th>5</th>\n",
       "      <td>8507</td>\n",
       "    </tr>\n",
       "    <tr>\n",
       "      <th>6</th>\n",
       "      <td>7900</td>\n",
       "    </tr>\n",
       "    <tr>\n",
       "      <th>7</th>\n",
       "      <td>8437</td>\n",
       "    </tr>\n",
       "    <tr>\n",
       "      <th>8</th>\n",
       "      <td>8459</td>\n",
       "    </tr>\n",
       "    <tr>\n",
       "      <th>9</th>\n",
       "      <td>8139</td>\n",
       "    </tr>\n",
       "    <tr>\n",
       "      <th>10</th>\n",
       "      <td>8057</td>\n",
       "    </tr>\n",
       "    <tr>\n",
       "      <th>11</th>\n",
       "      <td>7232</td>\n",
       "    </tr>\n",
       "    <tr>\n",
       "      <th>12</th>\n",
       "      <td>6969</td>\n",
       "    </tr>\n",
       "    <tr>\n",
       "      <th rowspan=\"8\" valign=\"top\">2019</th>\n",
       "      <th>1</th>\n",
       "      <td>7562</td>\n",
       "    </tr>\n",
       "    <tr>\n",
       "      <th>2</th>\n",
       "      <td>6569</td>\n",
       "    </tr>\n",
       "    <tr>\n",
       "      <th>3</th>\n",
       "      <td>7059</td>\n",
       "    </tr>\n",
       "    <tr>\n",
       "      <th>4</th>\n",
       "      <td>7211</td>\n",
       "    </tr>\n",
       "    <tr>\n",
       "      <th>5</th>\n",
       "      <td>7548</td>\n",
       "    </tr>\n",
       "    <tr>\n",
       "      <th>6</th>\n",
       "      <td>7733</td>\n",
       "    </tr>\n",
       "    <tr>\n",
       "      <th>7</th>\n",
       "      <td>8164</td>\n",
       "    </tr>\n",
       "    <tr>\n",
       "      <th>8</th>\n",
       "      <td>6642</td>\n",
       "    </tr>\n",
       "  </tbody>\n",
       "</table>\n",
       "</div>"
      ],
      "text/plain": [
       "            count\n",
       "year month       \n",
       "2014 1       5642\n",
       "     2       5536\n",
       "     3       6466\n",
       "     4       6601\n",
       "     5       7136\n",
       "     6       7153\n",
       "     7       7572\n",
       "     8       7808\n",
       "     9       7650\n",
       "     10      7679\n",
       "     11      6396\n",
       "     12      6714\n",
       "2015 1       7209\n",
       "     2       6082\n",
       "     3       7053\n",
       "     4       7445\n",
       "     5       7611\n",
       "     6       7690\n",
       "     7       8016\n",
       "     8       8111\n",
       "     9       7733\n",
       "     10      8177\n",
       "     11      7121\n",
       "     12      6923\n",
       "2016 1       7577\n",
       "     2       7065\n",
       "     3       7418\n",
       "     4       7739\n",
       "     5       8054\n",
       "     6       7710\n",
       "     7       7559\n",
       "     8       8084\n",
       "     9       8062\n",
       "     10      8123\n",
       "     11      7010\n",
       "     12      6996\n",
       "2017 1       7563\n",
       "     2       6847\n",
       "     3       7661\n",
       "     4       7442\n",
       "     5       8206\n",
       "     6       8094\n",
       "     7       8070\n",
       "     8       8733\n",
       "     9       8012\n",
       "     10      8060\n",
       "     11      7386\n",
       "     12      7134\n",
       "2018 1       7651\n",
       "     2       6838\n",
       "     3       7474\n",
       "     4       7863\n",
       "     5       8507\n",
       "     6       7900\n",
       "     7       8437\n",
       "     8       8459\n",
       "     9       8139\n",
       "     10      8057\n",
       "     11      7232\n",
       "     12      6969\n",
       "2019 1       7562\n",
       "     2       6569\n",
       "     3       7059\n",
       "     4       7211\n",
       "     5       7548\n",
       "     6       7733\n",
       "     7       8164\n",
       "     8       6642"
      ]
     },
     "execution_count": 17,
     "metadata": {},
     "output_type": "execute_result"
    }
   ],
   "source": [
    "pd.options.display.max_rows = None\n",
    "month_data = df.groupby([df['REPORTED_DATE'].dt.year.rename('year'), df['REPORTED_DATE'].dt.month.rename('month')]).agg({'count'})\n",
    "month_data_counts = pd.DataFrame(month_data['REPORTED_DATE'])\n",
    "month_data_counts"
   ]
  },
  {
   "cell_type": "markdown",
   "metadata": {},
   "source": [
    "In 2014-2017, the month of August has the most crimes occur of their respective year. It was September for 2018 and July for 2019. Eventhough the current record is 08/26/2019. I highly doubt it would surpass July if I waited for five more days. The time of year that has the most crime rates is around the summer time. The summer time is when Colorado would have the warmest weather of the year and attract tons of tourist. It makes sense that around that time of year, Denver would have tons of people outside. While the winter months, people would just stay inside. "
   ]
  },
  {
   "cell_type": "code",
   "execution_count": 20,
   "metadata": {},
   "outputs": [
    {
     "data": {
      "text/html": [
       "<div>\n",
       "<style scoped>\n",
       "    .dataframe tbody tr th:only-of-type {\n",
       "        vertical-align: middle;\n",
       "    }\n",
       "\n",
       "    .dataframe tbody tr th {\n",
       "        vertical-align: top;\n",
       "    }\n",
       "\n",
       "    .dataframe thead th {\n",
       "        text-align: right;\n",
       "    }\n",
       "</style>\n",
       "<table border=\"1\" class=\"dataframe\">\n",
       "  <thead>\n",
       "    <tr style=\"text-align: right;\">\n",
       "      <th></th>\n",
       "      <th>count</th>\n",
       "    </tr>\n",
       "    <tr>\n",
       "      <th>year</th>\n",
       "      <th></th>\n",
       "    </tr>\n",
       "  </thead>\n",
       "  <tbody>\n",
       "    <tr>\n",
       "      <th>2014</th>\n",
       "      <td>82353</td>\n",
       "    </tr>\n",
       "    <tr>\n",
       "      <th>2015</th>\n",
       "      <td>89171</td>\n",
       "    </tr>\n",
       "    <tr>\n",
       "      <th>2016</th>\n",
       "      <td>91397</td>\n",
       "    </tr>\n",
       "    <tr>\n",
       "      <th>2017</th>\n",
       "      <td>93208</td>\n",
       "    </tr>\n",
       "    <tr>\n",
       "      <th>2018</th>\n",
       "      <td>93526</td>\n",
       "    </tr>\n",
       "    <tr>\n",
       "      <th>2019</th>\n",
       "      <td>58488</td>\n",
       "    </tr>\n",
       "  </tbody>\n",
       "</table>\n",
       "</div>"
      ],
      "text/plain": [
       "      count\n",
       "year       \n",
       "2014  82353\n",
       "2015  89171\n",
       "2016  91397\n",
       "2017  93208\n",
       "2018  93526\n",
       "2019  58488"
      ]
     },
     "execution_count": 20,
     "metadata": {},
     "output_type": "execute_result"
    }
   ],
   "source": [
    "year_data =df.groupby([df['REPORTED_DATE'].dt.year.rename('year')]).agg({'count'})\n",
    "year_data_counts = pd.DataFrame(year_data['REPORTED_DATE'])\n",
    "year_data_counts"
   ]
  },
  {
   "cell_type": "code",
   "execution_count": 39,
   "metadata": {},
   "outputs": [
    {
     "data": {
      "text/html": [
       "<img src=\"Denver Population.png\"/>"
      ],
      "text/plain": [
       "<IPython.core.display.Image object>"
      ]
     },
     "execution_count": 39,
     "metadata": {},
     "output_type": "execute_result"
    }
   ],
   "source": [
    "from IPython.display import Image\n",
    "Denver_Population_png= 'Denver Population.png'\n",
    "Image(url=Denver_Population_png)\n",
    "# Source: http://worldpopulationreview.com/us-cities/denver-population/"
   ]
  },
  {
   "cell_type": "code",
   "execution_count": 33,
   "metadata": {},
   "outputs": [
    {
     "data": {
      "text/html": [
       "<div>\n",
       "<style scoped>\n",
       "    .dataframe tbody tr th:only-of-type {\n",
       "        vertical-align: middle;\n",
       "    }\n",
       "\n",
       "    .dataframe tbody tr th {\n",
       "        vertical-align: top;\n",
       "    }\n",
       "\n",
       "    .dataframe thead th {\n",
       "        text-align: right;\n",
       "    }\n",
       "</style>\n",
       "<table border=\"1\" class=\"dataframe\">\n",
       "  <thead>\n",
       "    <tr style=\"text-align: right;\">\n",
       "      <th></th>\n",
       "      <th>Year</th>\n",
       "      <th>Total Crimes</th>\n",
       "      <th>Growth</th>\n",
       "      <th>Annual Growth Rate</th>\n",
       "    </tr>\n",
       "  </thead>\n",
       "  <tbody>\n",
       "    <tr>\n",
       "      <th>0</th>\n",
       "      <td>2018</td>\n",
       "      <td>93526</td>\n",
       "      <td>318.0</td>\n",
       "      <td>0.341172</td>\n",
       "    </tr>\n",
       "    <tr>\n",
       "      <th>1</th>\n",
       "      <td>2017</td>\n",
       "      <td>93208</td>\n",
       "      <td>1811.0</td>\n",
       "      <td>1.981465</td>\n",
       "    </tr>\n",
       "    <tr>\n",
       "      <th>2</th>\n",
       "      <td>2016</td>\n",
       "      <td>91397</td>\n",
       "      <td>2226.0</td>\n",
       "      <td>2.496327</td>\n",
       "    </tr>\n",
       "    <tr>\n",
       "      <th>3</th>\n",
       "      <td>2015</td>\n",
       "      <td>89171</td>\n",
       "      <td>6818.0</td>\n",
       "      <td>8.278994</td>\n",
       "    </tr>\n",
       "    <tr>\n",
       "      <th>4</th>\n",
       "      <td>2014</td>\n",
       "      <td>82353</td>\n",
       "      <td>NaN</td>\n",
       "      <td>NaN</td>\n",
       "    </tr>\n",
       "  </tbody>\n",
       "</table>\n",
       "</div>"
      ],
      "text/plain": [
       "   Year  Total Crimes  Growth  Annual Growth Rate\n",
       "0  2018         93526   318.0            0.341172\n",
       "1  2017         93208  1811.0            1.981465\n",
       "2  2016         91397  2226.0            2.496327\n",
       "3  2015         89171  6818.0            8.278994\n",
       "4  2014         82353     NaN                 NaN"
      ]
     },
     "execution_count": 33,
     "metadata": {},
     "output_type": "execute_result"
    }
   ],
   "source": [
    "pd.read_csv('total_crimes_year.csv')"
   ]
  },
  {
   "cell_type": "markdown",
   "metadata": {},
   "source": [
    "The rate of the population growth and the rate of the crimes growth rate both increase every year. The four years are used to calculate the rates. Since the dataset only goes back to 2014. 2017 and 2016 have the rate of the population growth and the rate of the growth of the crime to have a difference less than 1%. While in 2018, the difference is 1.23%. Then there is an anomaly for 2014, and the difference is 5.55 %. There could have some kind of event that happens in 2015 to have a huge jump in crimes growth rate. I have done a quick google search what happened 2015 but I didn't see anything significant that affect crimes. According to this dataset, the crimes are decreasing in crimes growth rate. "
   ]
  },
  {
   "cell_type": "code",
   "execution_count": 44,
   "metadata": {},
   "outputs": [
    {
     "data": {
      "text/plain": [
       "Text(0.5, 1.0, 'Total Crimes by Year')"
      ]
     },
     "execution_count": 44,
     "metadata": {},
     "output_type": "execute_result"
    },
    {
     "data": {
      "image/png": "[encoded data removed]",
      "text/plain": [
       "<Figure size 432x288 with 1 Axes>"
      ]
     },
     "metadata": {
      "needs_background": "light"
     },
     "output_type": "display_data"
    }
   ],
   "source": [
    "year_data_counts.plot(kind='bar')\n",
    "plt.ylabel('Total Crimes')\n",
    "plt.title('Total Crimes by Year')"
   ]
  },
  {
   "cell_type": "markdown",
   "metadata": {},
   "source": [
    "This is the bar graph to visualize growth rate year by year. 2019 only goes up to 08/26/2019 when the dataset was collected. I would imagine in the future with the three months would look similar. "
   ]
  },
  {
   "cell_type": "markdown",
   "metadata": {},
   "source": [
    "# 2.Which parts of Denver that has the most crimes and why?"
   ]
  },
  {
   "cell_type": "code",
   "execution_count": 38,
   "metadata": {},
   "outputs": [
    {
     "data": {
      "text/plain": [
       "five-points     26655\n",
       "stapleton       21855\n",
       "cbd             18847\n",
       "capitol-hill    17526\n",
       "montbello       17292\n",
       "baker           13926\n",
       "lincoln-park    13645\n",
       "east-colfax     13273\n",
       "westwood        12505\n",
       "civic-center    12158\n",
       "Name: NEIGHBORHOOD_ID, dtype: int64"
      ]
     },
     "execution_count": 38,
     "metadata": {},
     "output_type": "execute_result"
    }
   ],
   "source": [
    "neighborhood_data = df['NEIGHBORHOOD_ID']\n",
    "neighborhood_data.value_counts().head(10)"
   ]
  },
  {
   "cell_type": "markdown",
   "metadata": {},
   "source": [
    "This is the top ten neighborhoods with the most crimes in Denver. "
   ]
  },
  {
   "cell_type": "code",
   "execution_count": 40,
   "metadata": {},
   "outputs": [
    {
     "data": {
      "text/html": [
       "<img src=\"Denver_neighborhoods.gif\"/>"
      ],
      "text/plain": [
       "<IPython.core.display.Image object>"
      ]
     },
     "execution_count": 40,
     "metadata": {},
     "output_type": "execute_result"
    }
   ],
   "source": [
    "Denver_neighborhoods_gif = 'Denver_neighborhoods.gif'\n",
    "Image(url=Denver_neighborhoods_gif)"
   ]
  },
  {
   "cell_type": "markdown",
   "metadata": {},
   "source": [
    "This is the map of all the neighborhoods in Denver."
   ]
  },
  {
   "cell_type": "code",
   "execution_count": 43,
   "metadata": {},
   "outputs": [
    {
     "data": {
      "text/html": [
       "<img src=\"Police_Stations.png\"/>"
      ],
      "text/plain": [
       "<IPython.core.display.Image object>"
      ]
     },
     "execution_count": 43,
     "metadata": {},
     "output_type": "execute_result"
    }
   ],
   "source": [
    "Police_Stations_png = 'Police_Stations.png'\n",
    "Image(url=Police_Stations_png)\n",
    "#Source: https://www.denvergov.org/maps/map/police"
   ]
  },
  {
   "cell_type": "markdown",
   "metadata": {},
   "source": [
    "This is the map of the seven districts. "
   ]
  },
  {
   "cell_type": "code",
   "execution_count": 48,
   "metadata": {},
   "outputs": [
    {
     "data": {
      "text/plain": [
       "3    112481\n",
       "6    102138\n",
       "1     89442\n",
       "2     74486\n",
       "4     71901\n",
       "5     51810\n",
       "7      5885\n",
       "Name: DISTRICT_ID, dtype: int64"
      ]
     },
     "execution_count": 48,
     "metadata": {},
     "output_type": "execute_result"
    }
   ],
   "source": [
    "district_id_data = df['DISTRICT_ID']\n",
    "district_counts = district_id_data.value_counts()\n",
    "district_counts"
   ]
  },
  {
   "cell_type": "markdown",
   "metadata": {},
   "source": [
    "This is the total number of crimes in the seven districts. Each district contain a police station and is in charge of their area. "
   ]
  },
  {
   "cell_type": "code",
   "execution_count": 63,
   "metadata": {},
   "outputs": [
    {
     "data": {
      "text/plain": [
       "(-1.1104517789475725,\n",
       " 1.1004977037594081,\n",
       " -1.1055105184830814,\n",
       " 1.123139026403241)"
      ]
     },
     "execution_count": 63,
     "metadata": {},
     "output_type": "execute_result"
    },
    {
     "data": {
      "image/png": "[encoded data removed]",
      "text/plain": [
       "<Figure size 720x360 with 1 Axes>"
      ]
     },
     "metadata": {},
     "output_type": "display_data"
    }
   ],
   "source": [
    "plt.figure(figsize=(10, 5))\n",
    "plt.pie(district_counts)\n",
    "plt.legend(district_counts.index)\n",
    "plt.title('Districts of Denver by Crimes')\n",
    "plt.axis('equal')"
   ]
  },
  {
   "cell_type": "markdown",
   "metadata": {},
   "source": [
    "This is the pie chart to show visually the percentage each district has for the total crimes in Denver.\n",
    "\n",
    "Based on the dataset, the top ten neighborhoods with most crimes are determined and visualized by the map. Since the neighborhoods are very small in scale, the seven districts were used to bring the location of Denver to be broader. The total counts are shown that district 3has the most crimes and district 6 was close. I would assume that the neighborhoods with a high population would have more crimes compare to the neighborhood with less population. For example, Five-points and Stapleton are top 2 with the most crimes based on statisticalatlas.com and they have a high population in Denver. While College View has a high population, it didn't crack top ten in Denver for most crimes. There's more than one thing that affects the crime rates in Denver. It would be interesting to compare the income, poverty rates, etc. in the neighborhoods to see the correlation. Unfortunately, there isn't another reliable dataset to use.\n",
    "Source: https://statisticalatlas.com/county/Colorado/Denver-County/Population \n"
   ]
  },
  {
   "cell_type": "markdown",
   "metadata": {},
   "source": [
    "# 3.What type of crimes is occurring? Would the type of crime change the perception of how dangerous the city?"
   ]
  },
  {
   "cell_type": "code",
   "execution_count": 60,
   "metadata": {},
   "outputs": [
    {
     "data": {
      "text/plain": [
       "'traffic-accident'"
      ]
     },
     "execution_count": 60,
     "metadata": {},
     "output_type": "execute_result"
    }
   ],
   "source": [
    "import statistics\n",
    "statistics.mode(df['OFFENSE_TYPE_ID'])"
   ]
  },
  {
   "cell_type": "markdown",
   "metadata": {},
   "source": [
    "Most common offense that occur in Denver is traffic-accident."
   ]
  },
  {
   "cell_type": "code",
   "execution_count": 61,
   "metadata": {},
   "outputs": [
    {
     "data": {
      "text/plain": [
       "1    376052\n",
       "0    132091\n",
       "Name: IS_CRIME, dtype: int64"
      ]
     },
     "execution_count": 61,
     "metadata": {},
     "output_type": "execute_result"
    }
   ],
   "source": [
    "df.IS_CRIME.value_counts()"
   ]
  },
  {
   "cell_type": "markdown",
   "metadata": {},
   "source": [
    "376052 offenses are considered by crime by the Denver Police Department. 132091 offenses are traffic offenses. Some of the traffic offenses like DUI and Hit and Run are not conisidered as crimes. "
   ]
  },
  {
   "cell_type": "code",
   "execution_count": 56,
   "metadata": {},
   "outputs": [
    {
     "data": {
      "text/plain": [
       "traffic-accident                132091\n",
       "all-other-crimes                 92125\n",
       "public-disorder                  52919\n",
       "larceny                          51465\n",
       "theft-from-motor-vehicle         38415\n",
       "drug-alcohol                     33433\n",
       "auto-theft                       27060\n",
       "burglary                         25061\n",
       "other-crimes-against-persons     24962\n",
       "aggravated-assault               12028\n",
       "white-collar-crime                6874\n",
       "robbery                           6580\n",
       "sexual-assault                    4192\n",
       "arson                              638\n",
       "murder                             300\n",
       "Name: OFFENSE_CATEGORY_ID, dtype: int64"
      ]
     },
     "execution_count": 56,
     "metadata": {},
     "output_type": "execute_result"
    }
   ],
   "source": [
    "offense_category = df.OFFENSE_CATEGORY_ID.value_counts()\n",
    "offense_category"
   ]
  },
  {
   "cell_type": "markdown",
   "metadata": {},
   "source": [
    "These are all the categories of crimes that occur in Denver. All other crimes varied from loitering, littering, kidnapping,etc. There all over the place. Denver Police Department has a csv file of all possible crimes listed. They're 299 counts. "
   ]
  },
  {
   "cell_type": "code",
   "execution_count": 58,
   "metadata": {},
   "outputs": [
    {
     "data": {
      "text/plain": [
       "Text(0.5, 1.0, 'Total Crimes by Category')"
      ]
     },
     "execution_count": 58,
     "metadata": {},
     "output_type": "execute_result"
    },
    {
     "data": {
      "image/png": "[encoded data removed]",
      "text/plain": [
       "<Figure size 432x288 with 1 Axes>"
      ]
     },
     "metadata": {
      "needs_background": "light"
     },
     "output_type": "display_data"
    }
   ],
   "source": [
    "offense_category.plot(kind='bar')\n",
    "plt.ylabel('Total Crimes')\n",
    "plt.xlabel('Offense Category')\n",
    "plt.title('Total Crimes by Category')"
   ]
  },
  {
   "cell_type": "markdown",
   "metadata": {},
   "source": [
    "This is the bargraph that shows the total number of crimes that occur in Denver sorted in catergories. \n",
    "\n",
    "The most crimes that occur mostly in Denver are traffic accidents. Then, second, it is all other crimes. All other crimes can be littering, loitering, gambling, kidnapping, etc according to the Denver Police Station. It would be difficult to say Denver is getting more dangerous just by looking at the numbers. Let's say littering increase 100% next year. Technically the crime rate in Denver is increasing. Is Denver really getting more dangerous? The categories should be reworked in my opinion. "
   ]
  },
  {
   "cell_type": "markdown",
   "metadata": {},
   "source": [
    "#   Proposal \n",
    "\n",
    "Overall, this project I managed to answer most of my questions but I couldn't get clear answers on some of them due to lack of data science techniques and knowledge. \n",
    "Question 2 I couldn't give a clear answer to answer why some areas in Denver have higher crimes than other areas. I would like to learn about web scraping. So would be able to collect other factors that affect crimes like income, poverty level, population more in detail, etc. Once I learned that technique I would be able to answer my question.\n",
    "Then for question 3, I need to organize the type of crimes into better categories to gauge to see Denver is getting more dangerous or not. I'm hoping I can learn a technique that I don't manually enter each entry to my custom category. Using the T-test would be a great tool to learn and helpful to answer my question. \n",
    "\n",
    "# Conclusion\n",
    "\n",
    "The dataset was collected from the Denver Police Station. The time of year when crimes most occurred is in the summertime. The rate of crimes is decreasing every year from 2014-2018. The Five-Points in the neighborhood that has the most crimes in Denver and District 3 has the most crimes out of the 7 districts. The population is for why certain areas have more crimes but not the only factor though. The most common crimes occurred under traffic-accident. Due to the crime categories not organized into numeric danger level hard to determine Denver is dangerous. Keep in mind the data were inputted by the Denver Police Stations. There could be some mistakes entering some data and also there could be crimes never gets reported. Overall it would be hard to get an actual number of crimes. "
   ]
  },
  {
   "cell_type": "code",
   "execution_count": null,
   "metadata": {},
   "outputs": [],
   "source": []
  }
 ],
 "metadata": {
  "kernelspec": {
   "display_name": "Python 3",
   "language": "python",
   "name": "python3"
  },
  "language_info": {
   "codemirror_mode": {
    "name": "ipython",
    "version": 3
   },
   "file_extension": ".py",
   "mimetype": "text/x-python",
   "name": "python",
   "nbconvert_exporter": "python",
   "pygments_lexer": "ipython3",
   "version": "3.7.3"
  }
 },
 "nbformat": 4,
 "nbformat_minor": 2
}
